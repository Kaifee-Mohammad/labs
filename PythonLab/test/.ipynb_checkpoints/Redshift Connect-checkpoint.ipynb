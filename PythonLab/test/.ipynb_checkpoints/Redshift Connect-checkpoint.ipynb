{
 "cells": [
  {
   "cell_type": "code",
   "execution_count": 1,
   "metadata": {},
   "outputs": [
    {
     "name": "stdout",
     "output_type": "stream",
     "text": [
      "Collecting sqlalchemy-redshift\n",
      "  Downloading sqlalchemy_redshift-0.8.1-py2.py3-none-any.whl (33 kB)\n",
      "Requirement already satisfied: packaging in c:\\python38\\lib\\site-packages (from sqlalchemy-redshift) (20.4)\n",
      "Requirement already satisfied: SQLAlchemy<2.0.0,>=0.9.2 in c:\\users\\kaife\\appdata\\roaming\\python\\python38\\site-packages (from sqlalchemy-redshift) (1.3.11)\n",
      "Requirement already satisfied: six in c:\\users\\kaife\\appdata\\roaming\\python\\python38\\site-packages (from packaging->sqlalchemy-redshift) (1.13.0)\n",
      "Requirement already satisfied: pyparsing>=2.0.2 in c:\\python38\\lib\\site-packages (from packaging->sqlalchemy-redshift) (2.4.7)\n",
      "Installing collected packages: sqlalchemy-redshift\n",
      "Successfully installed sqlalchemy-redshift-0.8.1\n",
      "Note: you may need to restart the kernel to use updated packages.\n"
     ]
    },
    {
     "name": "stderr",
     "output_type": "stream",
     "text": [
      "WARNING: You are using pip version 20.1.1; however, version 20.2.2 is available.\n",
      "You should consider upgrading via the 'c:\\python38\\python.exe -m pip install --upgrade pip' command.\n"
     ]
    }
   ],
   "source": [
    "pip install sqlalchemy-redshift"
   ]
  },
  {
   "cell_type": "code",
   "execution_count": 2,
   "metadata": {},
   "outputs": [],
   "source": [
    "import sqlalchemy as sa"
   ]
  },
  {
   "cell_type": "code",
   "execution_count": null,
   "metadata": {},
   "outputs": [],
   "source": [
    "engine = sa.create_engine('redshift+psycopg2://admin@host.amazonaws.com:5439/database')\n",
    "Engine(redshift+psycopg2://username@host.amazonaws.com:5439/database)"
   ]
  },
  {
   "cell_type": "code",
   "execution_count": null,
   "metadata": {},
   "outputs": [],
   "source": []
  },
  {
   "cell_type": "code",
   "execution_count": null,
   "metadata": {},
   "outputs": [],
   "source": []
  },
  {
   "cell_type": "code",
   "execution_count": null,
   "metadata": {},
   "outputs": [],
   "source": []
  }
 ],
 "metadata": {
  "kernelspec": {
   "display_name": "Python 3",
   "language": "python",
   "name": "python3"
  },
  "language_info": {
   "codemirror_mode": {
    "name": "ipython",
    "version": 3
   },
   "file_extension": ".py",
   "mimetype": "text/x-python",
   "name": "python",
   "nbconvert_exporter": "python",
   "pygments_lexer": "ipython3",
   "version": "3.8.3"
  }
 },
 "nbformat": 4,
 "nbformat_minor": 4
}
